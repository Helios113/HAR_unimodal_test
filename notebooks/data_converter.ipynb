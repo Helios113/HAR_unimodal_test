{
 "cells": [
  {
   "cell_type": "markdown",
   "metadata": {},
   "source": [
    "# Data converter\n",
    "### Used to take log files and make them into directly usable dataset scv's"
   ]
  },
  {
   "cell_type": "markdown",
   "metadata": {},
   "source": [
    "#### Imports"
   ]
  },
  {
   "cell_type": "code",
   "execution_count": null,
   "metadata": {},
   "outputs": [],
   "source": [
    "import numpy as np\n",
    "import pandas as pd\n",
    "from pathlib import Path\n",
    "import time"
   ]
  },
  {
   "cell_type": "markdown",
   "metadata": {},
   "source": [
    "#### Load data into memory"
   ]
  },
  {
   "cell_type": "code",
   "execution_count": null,
   "metadata": {},
   "outputs": [],
   "source": [
    "dir = Path(\"../data\")\n",
    "data_ext=\".log\"\n",
    "\n",
    "t1s = time.time();\n",
    "li = None\n",
    "# Get all files in the data directory with\n",
    "# appropriate extension\n",
    "for file in dir.glob('**/*'+data_ext):\n",
    "    # read each file\n",
    "    data = pd.read_csv(file, delimiter='\\t', header=None, dtype=np.float64).values\n",
    "    # eliminate null data\n",
    "    # and create a big list in memory\n",
    "    if li is None:\n",
    "        li = data[data[:,-1]!=0,:]\n",
    "    else:\n",
    "        li = np.append(li,data[data[:,-1]!=0,:], axis=0)\n",
    "# separate data from labels\n",
    "labels = li[:, 23:].astype(int)\n",
    "# data = (li[:, :23]-np.min(li[:, :23],axis=0))/(np.max(li[:, :23],axis=0)-np.min(li[:, :23],axis=0))\n",
    "data = li[:, :23]\n",
    "t1e = time.time();"
   ]
  },
  {
   "cell_type": "markdown",
   "metadata": {},
   "source": [
    "#### Create windows and window_labels"
   ]
  },
  {
   "cell_type": "code",
   "execution_count": null,
   "metadata": {},
   "outputs": [],
   "source": [
    "\n",
    "# Define the window size and the stride\n",
    "# Window size\n",
    "WINDOW_SIZE = 20\n",
    "# Stride\n",
    "STRIDE = 2\n",
    "t2s=time.time();\n",
    "windows = None\n",
    "window_labels = None\n",
    "spinning_cursor = '|/-\\\\'\n",
    "k=0\n",
    "# iterate through windows\n",
    "for i in range(0, data.shape[0]-WINDOW_SIZE, STRIDE):\n",
    "    # create data structure with data and labels\n",
    "\n",
    "    # logger\n",
    "    print(\"\",end='\\r')\n",
    "    print(r'Working: {per:6.2f}%'.format(per=100*(i+1)/(data.shape[0]-WINDOW_SIZE)),r'{cur}'.format(cur=spinning_cursor[int(t2s-time.time())%4]), end='')\n",
    "\n",
    "    # Data stacking\n",
    "    if windows is None:\n",
    "        windows = data[i:i+WINDOW_SIZE, 0:3].reshape(1,-1)\n",
    "    else:\n",
    "        windows = np.vstack((windows,data[i:i+WINDOW_SIZE, 0:3].reshape(1,-1)))\n",
    "    \n",
    "    # Label stacking\n",
    "    l = np.zeros(13)\n",
    "    for j in labels[i:i+WINDOW_SIZE]:\n",
    "        l[j]+=1\n",
    "    l/=WINDOW_SIZE\n",
    "    if window_labels is None:\n",
    "        window_labels = l\n",
    "    else:\n",
    "        window_labels = np.vstack((window_labels,l))\n",
    "print(\"\\n\")\n",
    "t2e = time.time();\n",
    "print(r\"Data loading took: {tm:>21.5f}s\".format(tm=t1e-t1s))\n",
    "print(r\"Data partitioning took: {tm:>16.5f}s\".format(tm=t2e-t2s))"
   ]
  },
  {
   "cell_type": "markdown",
   "metadata": {},
   "source": [
    "#### Save csv"
   ]
  },
  {
   "cell_type": "code",
   "execution_count": null,
   "metadata": {},
   "outputs": [],
   "source": [
    "# save data\n",
    "np.savetxt(dir/\"data.csv\", windows, delimiter=\",\")\n",
    "np.savetxt(dir/\"labels.csv\", window_labels, delimiter=\",\")\n",
    "# there is an empty line at the end of the csv"
   ]
  }
 ],
 "metadata": {
  "language_info": {
   "name": "python"
  },
  "orig_nbformat": 4
 },
 "nbformat": 4,
 "nbformat_minor": 2
}
